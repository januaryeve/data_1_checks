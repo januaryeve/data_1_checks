{
 "cells": [
  {
   "cell_type": "markdown",
   "id": "19f16da6",
   "metadata": {},
   "source": [
    "# Knowledge Check 1"
   ]
  },
  {
   "cell_type": "markdown",
   "id": "231223f9",
   "metadata": {},
   "source": [
    "- a statement that prints \"hello world!\""
   ]
  },
  {
   "cell_type": "code",
   "execution_count": 1,
   "id": "291257ad",
   "metadata": {},
   "outputs": [
    {
     "name": "stdout",
     "output_type": "stream",
     "text": [
      "hello world!\n"
     ]
    }
   ],
   "source": [
    "print(\"hello world!\")"
   ]
  },
  {
   "cell_type": "markdown",
   "id": "60235230",
   "metadata": {},
   "source": [
    "- a list populated with several values. They can be strings / integers / floats etc. Then, print() one of those values either to the prompt or in a cell"
   ]
  },
  {
   "cell_type": "code",
   "execution_count": 22,
   "id": "29fefc4f",
   "metadata": {},
   "outputs": [
    {
     "name": "stdout",
     "output_type": "stream",
     "text": [
      "birds\n"
     ]
    }
   ],
   "source": [
    "my_list = [\"clouds\", \"birds\", \"people\"]\n",
    "\n",
    "print(my_list[1])"
   ]
  },
  {
   "cell_type": "markdown",
   "id": "db89854a",
   "metadata": {},
   "source": [
    "- a dictionary populated with two keys and two values. Print one of the values just like you did above."
   ]
  },
  {
   "cell_type": "code",
   "execution_count": 21,
   "id": "264bcc55",
   "metadata": {},
   "outputs": [
    {
     "name": "stdout",
     "output_type": "stream",
     "text": [
      "Dylan\n"
     ]
    }
   ],
   "source": [
    "dict = {}\n",
    "dict['B'] = 'Bob'\n",
    "dict['D'] = 'Dylan'\n",
    "\n",
    "print(dict['D'])"
   ]
  },
  {
   "cell_type": "markdown",
   "id": "4008404a",
   "metadata": {},
   "source": [
    "- a tuple with 4 values. Print one of them"
   ]
  },
  {
   "cell_type": "code",
   "execution_count": 29,
   "id": "39d23ae3",
   "metadata": {},
   "outputs": [
    {
     "name": "stdout",
     "output_type": "stream",
     "text": [
      "money and\n"
     ]
    }
   ],
   "source": [
    "a_tuple = (\"lawyers\", \"guns\", \"and\", \"money\")\n",
    "\n",
    "print(a_tuple[3])"
   ]
  }
 ],
 "metadata": {
  "kernelspec": {
   "display_name": "Python 3 (ipykernel)",
   "language": "python",
   "name": "python3"
  },
  "language_info": {
   "codemirror_mode": {
    "name": "ipython",
    "version": 3
   },
   "file_extension": ".py",
   "mimetype": "text/x-python",
   "name": "python",
   "nbconvert_exporter": "python",
   "pygments_lexer": "ipython3",
   "version": "3.11.2"
  }
 },
 "nbformat": 4,
 "nbformat_minor": 5
}
